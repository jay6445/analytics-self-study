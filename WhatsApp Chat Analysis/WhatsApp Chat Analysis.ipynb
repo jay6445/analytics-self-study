{
 "cells": [
  {
   "attachments": {
    "image.png": {
     "image/png": "[encoded data removed]"
    }
   },
   "cell_type": "markdown",
   "metadata": {},
   "source": [
    "# ![image.png](attachment:image.png)  WhatsApp Chat Analysis\n",
    "\n",
    "### We will analyse a group chat to find \n",
    "### 1. Total messages \n",
    "### 2. Number of group members and their names\n",
    "### 3. Number of messages sent by each\n",
    "### 4. Number of messages sent on each date and date when maximum messages were sent"
   ]
  },
  {
   "cell_type": "markdown",
   "metadata": {},
   "source": [
    "## Libraries used\n",
    "### 1. Regex(re) to find patterns using regular expressions\n",
    "### 2. Pandas for analysis of data\n",
    "### 3. Matplotlib for visualization\n"
   ]
  },
  {
   "cell_type": "code",
   "execution_count": 3,
   "metadata": {
    "scrolled": true
   },
   "outputs": [],
   "source": [
    "import re\n",
    "import pandas as pd\n",
    "import matplotlib.pyplot as plt"
   ]
  },
  {
   "cell_type": "code",
   "execution_count": 1,
   "metadata": {},
   "outputs": [
    {
     "data": {
      "text/plain": [
       "'10/07/20, 1:33 pm - Messages to this group are now secured with end-to-end encryption. Tap for more info.\\n07/12/19, 10:41 am - Sarvesh created group \"Algorythms!🎹🎼🎤🎸🥁\"\\n10/07/20, 1:33 pm - Sarvesh added you\\n10/07/20, 1:33 pm - You\\'re now an admin\\n10/07/20, 1:34 pm - Jay: Gaaneka kya aaj 🙃\\n10/07/20, 1:34 pm - Sarvesh: Kya be do do number leke kya karray\\n10/07/20, 1:34 pm - Jay: Jio tha re\\n10/07/20, 1:34 pm - Jay: Use nai karatau\\n10/07/20, 1:34 pm - Sarvesh: Kyu man hora hai? Nahi be mujhe Nahi perform Karna apan kal karte hai apna jam\\n10/07/20, 1:35 pm - Jay: Haa bey wo bhi hai\\n10/07/20, 1:35 pm - Sarvesh: Ye Pratik kya karega\\n10/07/20, 1:35 pm - Jay: Desk bajayega\\n10/07/20, 1:35 pm - Sarvesh: 😂😂\\n10/07/20, 1:36 pm - Sarvesh: Apan aaj churake dekhte hai 😆\\n10/07/20, 1:37 pm - Jay: Haa bey\\n10/07/20, 1:37 pm - Jay: Better than Netflix\\n10/07/20, 1:54 pm - Sarvesh: 😂😂😂😂\\n10/07/20, 3:13 pm - Pratik: Abe usse aacha kuch alag karte hai\\n10/07/20, 3:14 pm - Pratik: Unko entertain karnese kuch nahi milega better ghar pe kuch khana banalu\\n10/07/20, 3:16 pm - Jay: 😂\\n10/07/20, 3:17 pm - Pratik: Koi bhi nahi karna chahiye rga\\n10/07/20, 3:17 pm - Pratik: Maaja aajata\\n10/07/20, 3:45 pm - Sarvesh: 😂😂😂\\n10/07/20, 4:42 pm - Pratik: @919004169650 kal titanic kar rahe hai apan\\n10/07/20, 4:42 pm - Pratik: Sarvesh Jay cha dusra no kadh na hya grp madhun\\n10/07/20, 4:49 pm - Sarvesh removed +91 81046 64781\\n10/07/20, 5:16 pm - Jay: Titanic gaayega kon\\n10/07/20, 5:16 pm - Jay: 😳\\n10/07/20, 5:17 pm - Sarvesh: Tu😂😂\\n10/07/20, 5:17 pm - Jay: 😏\\n10/07/20, 5:17 pm - Pratik: Tu\\n10/07/20, 5:17 pm - Pratik: 🤣🤣🤣\\n10/07/20, 5:18 pm - Pratik: Are login aalo na\\n10/07/20, 5:18 pm - Jay: Ganduo\\n10/07/20, 5:18 pm - Pratik: Ye log gaana gaa rahe hai!\\n10/07/20, 5:18 pm - Jay: Zoom pe kya chalu h\\n10/07/20, 5:18 pm - Jay: Link bhej\\n10/07/20, 5:18 pm - Sarvesh: Zoom id de??\\n10/07/20, 5:18 pm - Pratik: Abhi snehal gaa raha hai\\n10/07/20, 5:18 pm - Sarvesh: I\\'d de\\n10/07/20, 5:18 pm - Jay: Chava hai wo\\n10/07/20, 5:18 pm - Pratik: <Media omitted>\\n10/07/20, 5:18 pm - Pratik: .\\n10/07/20, 5:18 pm - Pratik: Jaldi aao\\n10/07/20, 5:19 pm - Pratik: Ajay aa raha hai\\n10/07/20, 5:19 pm - Pratik: Jaldi aao\\n10/07/20, 5:20 pm - Sarvesh: 😂😂😂\\n11/07/20, 1:25 pm - Jay: <Media omitted>\\n11/07/20, 1:33 pm - Pratik: 🤣🤣🤣\\n12/07/20, 3:31 pm - Pratik: Guys\\n12/07/20, 3:31 pm - Pratik: Kuch karna hai ki nahi\\n12/07/20, 3:31 pm - Pratik: ?\\n12/07/20, 4:50 pm - Jay: bhai aja\\n12/07/20, 4:50 pm - Jay: dono ko call kia\\n12/07/20, 4:50 pm - Sarvesh: Bro Ruk 15 20 min\\n12/07/20, 4:50 pm - Sarvesh: Ata hu\\n12/07/20, 5:08 pm - Sarvesh: 5 30 ko jam karte hai?\\n12/07/20, 5:26 pm - Pratik: M going out @6\\n12/07/20, 5:26 pm - Jay: Kaha jaa raha hai bey ye time pe\\n12/07/20, 5:26 pm - Pratik: Mom ko office drop karna hai\\n12/07/20, 5:27 pm - Jay: Acha\\n12/07/20, 5:27 pm - Pratik: And before that have some work at nani place\\n'"
      ]
     },
     "execution_count": 1,
     "metadata": {},
     "output_type": "execute_result"
    }
   ],
   "source": [
    "file = open(\"WhatsApp Chat.txt\",mode='r',encoding=\"utf8\")\n",
    "data = file.read()\n",
    "file.close()\n",
    "data"
   ]
  },
  {
   "cell_type": "markdown",
   "metadata": {},
   "source": [
    "### We will calculate total messages in the group using a regular expression"
   ]
  },
  {
   "cell_type": "code",
   "execution_count": 4,
   "metadata": {},
   "outputs": [],
   "source": [
    "pattern = re.compile('\\d:\\d\\d\\spm\\s-\\s([a-zA-Z0-9]+\\s?[a-zA-Z0-9]):')\n",
    "messengers = re.findall(pattern,data)"
   ]
  },
  {
   "cell_type": "code",
   "execution_count": 7,
   "metadata": {},
   "outputs": [
    {
     "data": {
      "text/plain": [
       "57"
      ]
     },
     "execution_count": 7,
     "metadata": {},
     "output_type": "execute_result"
    }
   ],
   "source": [
    "len(messengers)"
   ]
  },
  {
   "cell_type": "markdown",
   "metadata": {},
   "source": [
    "### Group members"
   ]
  },
  {
   "cell_type": "code",
   "execution_count": 8,
   "metadata": {},
   "outputs": [
    {
     "data": {
      "text/plain": [
       "{'Jay', 'Pratik', 'Sarvesh'}"
      ]
     },
     "execution_count": 8,
     "metadata": {},
     "output_type": "execute_result"
    }
   ],
   "source": [
    "set(messengers)\n"
   ]
  },
  {
   "cell_type": "markdown",
   "metadata": {},
   "source": [
    "### How many messages sent by each member ?"
   ]
  },
  {
   "cell_type": "code",
   "execution_count": 64,
   "metadata": {},
   "outputs": [],
   "source": [
    "members = list(set(messengers))"
   ]
  },
  {
   "cell_type": "code",
   "execution_count": 65,
   "metadata": {},
   "outputs": [],
   "source": [
    "messageCount = []\n",
    "for member in members:\n",
    "    messageCount.append(messengers.count(member))\n",
    "    \n",
    " "
   ]
  },
  {
   "cell_type": "code",
   "execution_count": 66,
   "metadata": {},
   "outputs": [
    {
     "data": {
      "text/plain": [
       "[14, 23, 20]"
      ]
     },
     "execution_count": 66,
     "metadata": {},
     "output_type": "execute_result"
    }
   ],
   "source": [
    "messageCount"
   ]
  },
  {
   "cell_type": "code",
   "execution_count": 112,
   "metadata": {},
   "outputs": [
    {
     "data": {
      "text/plain": [
       "<BarContainer object of 3 artists>"
      ]
     },
     "execution_count": 112,
     "metadata": {},
     "output_type": "execute_result"
    },
    {
     "data": {
      "image/png": "[encoded data removed]",
      "text/plain": [
       "<Figure size 432x288 with 1 Axes>"
      ]
     },
     "metadata": {
      "needs_background": "light"
     },
     "output_type": "display_data"
    }
   ],
   "source": [
    "fig = plt.figure()\n",
    "ax = fig.add_axes([0,0,1,1])\n",
    "ax.bar(members,messageCount, color=(0.2, 0.4, 0.6, 0.6))"
   ]
  },
  {
   "cell_type": "markdown",
   "metadata": {},
   "source": [
    "### We observe that Sarvesh Pratik and Jay sent 14, 23 and 20 messages respectively"
   ]
  },
  {
   "cell_type": "markdown",
   "metadata": {},
   "source": [
    "### Now we will analyse the number of messages sent on various days"
   ]
  },
  {
   "cell_type": "code",
   "execution_count": 87,
   "metadata": {},
   "outputs": [],
   "source": [
    "pattern1 = re.compile(\"\\d\\d+\\/+\\d\\d+\\/+\\d\\d\")\n",
    "dates = re.findall(pattern1,data)"
   ]
  },
  {
   "cell_type": "code",
   "execution_count": 92,
   "metadata": {},
   "outputs": [
    {
     "data": {
      "text/plain": [
       "2"
      ]
     },
     "execution_count": 92,
     "metadata": {},
     "output_type": "execute_result"
    }
   ],
   "source": [
    "dates.count('11/07/20')"
   ]
  },
  {
   "cell_type": "code",
   "execution_count": 93,
   "metadata": {},
   "outputs": [
    {
     "data": {
      "text/plain": [
       "{'07/12/19', '10/07/20', '11/07/20', '12/07/20'}"
      ]
     },
     "execution_count": 93,
     "metadata": {},
     "output_type": "execute_result"
    }
   ],
   "source": [
    "set(dates)"
   ]
  },
  {
   "cell_type": "code",
   "execution_count": 99,
   "metadata": {},
   "outputs": [],
   "source": [
    "dateList = list(set(dates))"
   ]
  },
  {
   "cell_type": "code",
   "execution_count": 96,
   "metadata": {},
   "outputs": [
    {
     "name": "stdout",
     "output_type": "stream",
     "text": [
      "12/07/20\n",
      "10/07/20\n",
      "07/12/19\n",
      "11/07/20\n"
     ]
    }
   ],
   "source": [
    "messageCount1 = []\n",
    "for date in set(dates):\n",
    "    print(date)\n",
    "    messageCount1.append(dates.count(date))"
   ]
  },
  {
   "cell_type": "markdown",
   "metadata": {},
   "source": [
    "### Below we see that the maximum messages were sent on 10/07/20"
   ]
  },
  {
   "cell_type": "code",
   "execution_count": 120,
   "metadata": {},
   "outputs": [
    {
     "data": {
      "text/plain": [
       "<BarContainer object of 4 artists>"
      ]
     },
     "execution_count": 120,
     "metadata": {},
     "output_type": "execute_result"
    },
    {
     "data": {
      "image/png": "[encoded data removed]",
      "text/plain": [
       "<Figure size 432x288 with 1 Axes>"
      ]
     },
     "metadata": {
      "needs_background": "light"
     },
     "output_type": "display_data"
    }
   ],
   "source": [
    "fig = plt.figure()\n",
    "ax = fig.add_axes([0,0,1,1])\n",
    "ax.bar(dateList,messageCount1, color='grey',label=dateList)"
   ]
  },
  {
   "cell_type": "markdown",
   "metadata": {},
   "source": [
    "### Lets analyze the emojis in the chat"
   ]
  },
  {
   "cell_type": "code",
   "execution_count": 10,
   "metadata": {},
   "outputs": [],
   "source": [
    "pattern2 = re.compile(\"[\\u263a-\\U0001f645]\")\n",
    "emojis = re.findall(pattern2,data)"
   ]
  },
  {
   "cell_type": "code",
   "execution_count": 11,
   "metadata": {},
   "outputs": [
    {
     "data": {
      "text/plain": [
       "['🎹',\n",
       " '🎼',\n",
       " '🎤',\n",
       " '🎸',\n",
       " '🙃',\n",
       " '😂',\n",
       " '😂',\n",
       " '😆',\n",
       " '😂',\n",
       " '😂',\n",
       " '😂',\n",
       " '😂',\n",
       " '😂',\n",
       " '😂',\n",
       " '😂',\n",
       " '😂',\n",
       " '😳',\n",
       " '😂',\n",
       " '😂',\n",
       " '😏',\n",
       " '😂',\n",
       " '😂',\n",
       " '😂']"
      ]
     },
     "execution_count": 11,
     "metadata": {},
     "output_type": "execute_result"
    }
   ],
   "source": [
    "emojis"
   ]
  },
  {
   "cell_type": "markdown",
   "metadata": {},
   "source": [
    "### Total emojis used in the chat"
   ]
  },
  {
   "cell_type": "code",
   "execution_count": 12,
   "metadata": {},
   "outputs": [
    {
     "data": {
      "text/plain": [
       "23"
      ]
     },
     "execution_count": 12,
     "metadata": {},
     "output_type": "execute_result"
    }
   ],
   "source": [
    "len(emojis)"
   ]
  },
  {
   "cell_type": "markdown",
   "metadata": {},
   "source": [
    "### Distinct emojis used"
   ]
  },
  {
   "cell_type": "code",
   "execution_count": 13,
   "metadata": {},
   "outputs": [
    {
     "data": {
      "text/plain": [
       "{'🎤', '🎸', '🎹', '🎼', '😂', '😆', '😏', '😳', '🙃'}"
      ]
     },
     "execution_count": 13,
     "metadata": {},
     "output_type": "execute_result"
    }
   ],
   "source": [
    "set(emojis)"
   ]
  },
  {
   "cell_type": "markdown",
   "metadata": {},
   "source": [
    "### Our regex doesn't detect 🤣 and 🥁 yet"
   ]
  }
 ],
 "metadata": {
  "kernelspec": {
   "display_name": "Python 3",
   "language": "python",
   "name": "python3"
  },
  "language_info": {
   "codemirror_mode": {
    "name": "ipython",
    "version": 3
   },
   "file_extension": ".py",
   "mimetype": "text/x-python",
   "name": "python",
   "nbconvert_exporter": "python",
   "pygments_lexer": "ipython3",
   "version": "3.8.3"
  }
 },
 "nbformat": 4,
 "nbformat_minor": 2
}
