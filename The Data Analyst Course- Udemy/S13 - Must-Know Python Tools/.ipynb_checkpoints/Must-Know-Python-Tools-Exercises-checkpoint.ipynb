{
 "cells": [
  {
   "cell_type": "markdown",
   "metadata": {},
   "source": [
    "<hr style=\"border:5px solid #108999\"> </hr>"
   ]
  },
  {
   "cell_type": "markdown",
   "metadata": {},
   "source": [
    "# Must Know Python Tools <hr style=\"border:4.5px solid #108999\"> </hr>"
   ]
  },
  {
   "cell_type": "markdown",
   "metadata": {},
   "source": [
    "## Iterating Over Range Objects, <br><br> Nested For Loops - Introduction, <br><br> Triple Nested For Loops"
   ]
  },
  {
   "cell_type": "markdown",
   "metadata": {},
   "source": [
    "Create a 'range' object with a stop value of 10. \n",
    "Do this operation twice - once without indicating a start value, and then by indicating the start value of 0."
   ]
  },
  {
   "cell_type": "code",
   "execution_count": 1,
   "metadata": {},
   "outputs": [
    {
     "data": {
      "text/plain": [
       "range(0, 10)"
      ]
     },
     "execution_count": 1,
     "metadata": {},
     "output_type": "execute_result"
    }
   ],
   "source": [
    "range(10)"
   ]
  },
  {
   "cell_type": "code",
   "execution_count": 2,
   "metadata": {},
   "outputs": [
    {
     "data": {
      "text/plain": [
       "range(10, 10)"
      ]
     },
     "execution_count": 2,
     "metadata": {},
     "output_type": "execute_result"
    }
   ],
   "source": [
    "range(10,10)"
   ]
  },
  {
   "cell_type": "markdown",
   "metadata": {},
   "source": [
    "Turn this 'range' object into a list of values."
   ]
  },
  {
   "cell_type": "code",
   "execution_count": 13,
   "metadata": {},
   "outputs": [
    {
     "name": "stdout",
     "output_type": "stream",
     "text": [
      "[0, 1, 2, 3, 4, 5, 6, 7, 8, 9]\n"
     ]
    }
   ],
   "source": [
    "a = [*range(10)]\n",
    "print(a)"
   ]
  },
  {
   "cell_type": "markdown",
   "metadata": {},
   "source": [
    "Obtain all integers from 0 to 9 again, this time using a for-loop with a range() function. Let Python display the values in the output vertically."
   ]
  },
  {
   "cell_type": "code",
   "execution_count": 14,
   "metadata": {},
   "outputs": [
    {
     "name": "stdout",
     "output_type": "stream",
     "text": [
      "0\n",
      "1\n",
      "2\n",
      "3\n",
      "4\n",
      "5\n",
      "6\n",
      "7\n",
      "8\n",
      "9\n"
     ]
    }
   ],
   "source": [
    "for i in range(10):\n",
    "    print(i)"
   ]
  },
  {
   "cell_type": "markdown",
   "metadata": {},
   "source": [
    "Repeat the same task, this time printing the values from the output on the same line."
   ]
  },
  {
   "cell_type": "code",
   "execution_count": 15,
   "metadata": {},
   "outputs": [
    {
     "name": "stdout",
     "output_type": "stream",
     "text": [
      "0 1 2 3 4 5 6 7 8 9 "
     ]
    }
   ],
   "source": [
    "for i in range(10):\n",
    "    print(i, end= \" \")"
   ]
  },
  {
   "cell_type": "markdown",
   "metadata": {},
   "source": [
    "Create a nested loop that delivers all possible combinations of the elements from the following two lists in the form of lists:"
   ]
  },
  {
   "cell_type": "code",
   "execution_count": 16,
   "metadata": {},
   "outputs": [],
   "source": [
    "products_on_sale = ['Chair_Type_1', 'Chair_Type_2', 'Chair_Type_3', 'Chair_Type_4']\n",
    "sale_prices = [100, 120, 135, 150]"
   ]
  },
  {
   "cell_type": "code",
   "execution_count": 21,
   "metadata": {},
   "outputs": [
    {
     "name": "stdout",
     "output_type": "stream",
     "text": [
      "['Chair_Type_1', 100]\n",
      "['Chair_Type_1', 120]\n",
      "['Chair_Type_1', 135]\n",
      "['Chair_Type_1', 150]\n",
      "['Chair_Type_2', 100]\n",
      "['Chair_Type_2', 120]\n",
      "['Chair_Type_2', 135]\n",
      "['Chair_Type_2', 150]\n",
      "['Chair_Type_3', 100]\n",
      "['Chair_Type_3', 120]\n",
      "['Chair_Type_3', 135]\n",
      "['Chair_Type_3', 150]\n",
      "['Chair_Type_4', 100]\n",
      "['Chair_Type_4', 120]\n",
      "['Chair_Type_4', 135]\n",
      "['Chair_Type_4', 150]\n"
     ]
    }
   ],
   "source": [
    "a = []\n",
    "for i in products_on_sale:\n",
    "    for j in sale_prices:\n",
    "        print([i,j])\n",
    "        a.append([i,j])"
   ]
  },
  {
   "cell_type": "code",
   "execution_count": 18,
   "metadata": {},
   "outputs": [],
   "source": [
    "import pandas as pd"
   ]
  },
  {
   "cell_type": "code",
   "execution_count": 30,
   "metadata": {},
   "outputs": [
    {
     "data": {
      "text/html": [
       "<div>\n",
       "<style scoped>\n",
       "    .dataframe tbody tr th:only-of-type {\n",
       "        vertical-align: middle;\n",
       "    }\n",
       "\n",
       "    .dataframe tbody tr th {\n",
       "        vertical-align: top;\n",
       "    }\n",
       "\n",
       "    .dataframe thead th {\n",
       "        text-align: right;\n",
       "    }\n",
       "</style>\n",
       "<table border=\"1\" class=\"dataframe\">\n",
       "  <thead>\n",
       "    <tr style=\"text-align: right;\">\n",
       "      <th></th>\n",
       "      <th>products_on_sale</th>\n",
       "      <th>sale_prices</th>\n",
       "    </tr>\n",
       "  </thead>\n",
       "  <tbody>\n",
       "    <tr>\n",
       "      <th>0</th>\n",
       "      <td>Chair_Type_1</td>\n",
       "      <td>100</td>\n",
       "    </tr>\n",
       "    <tr>\n",
       "      <th>1</th>\n",
       "      <td>Chair_Type_1</td>\n",
       "      <td>120</td>\n",
       "    </tr>\n",
       "    <tr>\n",
       "      <th>2</th>\n",
       "      <td>Chair_Type_1</td>\n",
       "      <td>135</td>\n",
       "    </tr>\n",
       "    <tr>\n",
       "      <th>3</th>\n",
       "      <td>Chair_Type_1</td>\n",
       "      <td>150</td>\n",
       "    </tr>\n",
       "    <tr>\n",
       "      <th>4</th>\n",
       "      <td>Chair_Type_2</td>\n",
       "      <td>100</td>\n",
       "    </tr>\n",
       "    <tr>\n",
       "      <th>5</th>\n",
       "      <td>Chair_Type_2</td>\n",
       "      <td>120</td>\n",
       "    </tr>\n",
       "    <tr>\n",
       "      <th>6</th>\n",
       "      <td>Chair_Type_2</td>\n",
       "      <td>135</td>\n",
       "    </tr>\n",
       "    <tr>\n",
       "      <th>7</th>\n",
       "      <td>Chair_Type_2</td>\n",
       "      <td>150</td>\n",
       "    </tr>\n",
       "    <tr>\n",
       "      <th>8</th>\n",
       "      <td>Chair_Type_3</td>\n",
       "      <td>100</td>\n",
       "    </tr>\n",
       "    <tr>\n",
       "      <th>9</th>\n",
       "      <td>Chair_Type_3</td>\n",
       "      <td>120</td>\n",
       "    </tr>\n",
       "    <tr>\n",
       "      <th>10</th>\n",
       "      <td>Chair_Type_3</td>\n",
       "      <td>135</td>\n",
       "    </tr>\n",
       "    <tr>\n",
       "      <th>11</th>\n",
       "      <td>Chair_Type_3</td>\n",
       "      <td>150</td>\n",
       "    </tr>\n",
       "    <tr>\n",
       "      <th>12</th>\n",
       "      <td>Chair_Type_4</td>\n",
       "      <td>100</td>\n",
       "    </tr>\n",
       "    <tr>\n",
       "      <th>13</th>\n",
       "      <td>Chair_Type_4</td>\n",
       "      <td>120</td>\n",
       "    </tr>\n",
       "    <tr>\n",
       "      <th>14</th>\n",
       "      <td>Chair_Type_4</td>\n",
       "      <td>135</td>\n",
       "    </tr>\n",
       "    <tr>\n",
       "      <th>15</th>\n",
       "      <td>Chair_Type_4</td>\n",
       "      <td>150</td>\n",
       "    </tr>\n",
       "  </tbody>\n",
       "</table>\n",
       "</div>"
      ],
      "text/plain": [
       "   products_on_sale  sale_prices\n",
       "0      Chair_Type_1          100\n",
       "1      Chair_Type_1          120\n",
       "2      Chair_Type_1          135\n",
       "3      Chair_Type_1          150\n",
       "4      Chair_Type_2          100\n",
       "5      Chair_Type_2          120\n",
       "6      Chair_Type_2          135\n",
       "7      Chair_Type_2          150\n",
       "8      Chair_Type_3          100\n",
       "9      Chair_Type_3          120\n",
       "10     Chair_Type_3          135\n",
       "11     Chair_Type_3          150\n",
       "12     Chair_Type_4          100\n",
       "13     Chair_Type_4          120\n",
       "14     Chair_Type_4          135\n",
       "15     Chair_Type_4          150"
      ]
     },
     "execution_count": 30,
     "metadata": {},
     "output_type": "execute_result"
    }
   ],
   "source": [
    "df = pd.DataFrame(a)\n",
    "df.columns = ['products_on_sale', 'sale_prices']\n",
    "df"
   ]
  },
  {
   "cell_type": "markdown",
   "metadata": {},
   "source": [
    "Consider the following list with data, which is our third for this exercise. It represents the possible quantities in which the relevant items can be put on sale."
   ]
  },
  {
   "cell_type": "code",
   "execution_count": 31,
   "metadata": {},
   "outputs": [],
   "source": [
    "quantities = [1000, 1500, 1300]"
   ]
  },
  {
   "cell_type": "markdown",
   "metadata": {},
   "source": [
    "Create a triple nested loop that shows the potential revenue generated from each chair type. Use iterator variables with more meaningful names than letters such as i, j, k.\n",
    "<br>Present two versions of the nested loop. Let the first one return a Python list where the chair type is the first element, while the potential revenue is the second element. \n",
    "<br>Then, let the second loop return a more presentable output, where the quantity and potential revenue have been explicitly stated."
   ]
  },
  {
   "cell_type": "code",
   "execution_count": 36,
   "metadata": {},
   "outputs": [
    {
     "name": "stdout",
     "output_type": "stream",
     "text": [
      "['Chair_Type_1', 1000, 100, 100000]\n",
      "['Chair_Type_1', 1500, 100, 150000]\n",
      "['Chair_Type_1', 1300, 100, 130000]\n",
      "['Chair_Type_1', 1000, 120, 120000]\n",
      "['Chair_Type_1', 1500, 120, 180000]\n",
      "['Chair_Type_1', 1300, 120, 156000]\n",
      "['Chair_Type_1', 1000, 135, 135000]\n",
      "['Chair_Type_1', 1500, 135, 202500]\n",
      "['Chair_Type_1', 1300, 135, 175500]\n",
      "['Chair_Type_1', 1000, 150, 150000]\n",
      "['Chair_Type_1', 1500, 150, 225000]\n",
      "['Chair_Type_1', 1300, 150, 195000]\n",
      "['Chair_Type_2', 1000, 100, 100000]\n",
      "['Chair_Type_2', 1500, 100, 150000]\n",
      "['Chair_Type_2', 1300, 100, 130000]\n",
      "['Chair_Type_2', 1000, 120, 120000]\n",
      "['Chair_Type_2', 1500, 120, 180000]\n",
      "['Chair_Type_2', 1300, 120, 156000]\n",
      "['Chair_Type_2', 1000, 135, 135000]\n",
      "['Chair_Type_2', 1500, 135, 202500]\n",
      "['Chair_Type_2', 1300, 135, 175500]\n",
      "['Chair_Type_2', 1000, 150, 150000]\n",
      "['Chair_Type_2', 1500, 150, 225000]\n",
      "['Chair_Type_2', 1300, 150, 195000]\n",
      "['Chair_Type_3', 1000, 100, 100000]\n",
      "['Chair_Type_3', 1500, 100, 150000]\n",
      "['Chair_Type_3', 1300, 100, 130000]\n",
      "['Chair_Type_3', 1000, 120, 120000]\n",
      "['Chair_Type_3', 1500, 120, 180000]\n",
      "['Chair_Type_3', 1300, 120, 156000]\n",
      "['Chair_Type_3', 1000, 135, 135000]\n",
      "['Chair_Type_3', 1500, 135, 202500]\n",
      "['Chair_Type_3', 1300, 135, 175500]\n",
      "['Chair_Type_3', 1000, 150, 150000]\n",
      "['Chair_Type_3', 1500, 150, 225000]\n",
      "['Chair_Type_3', 1300, 150, 195000]\n",
      "['Chair_Type_4', 1000, 100, 100000]\n",
      "['Chair_Type_4', 1500, 100, 150000]\n",
      "['Chair_Type_4', 1300, 100, 130000]\n",
      "['Chair_Type_4', 1000, 120, 120000]\n",
      "['Chair_Type_4', 1500, 120, 180000]\n",
      "['Chair_Type_4', 1300, 120, 156000]\n",
      "['Chair_Type_4', 1000, 135, 135000]\n",
      "['Chair_Type_4', 1500, 135, 202500]\n",
      "['Chair_Type_4', 1300, 135, 175500]\n",
      "['Chair_Type_4', 1000, 150, 150000]\n",
      "['Chair_Type_4', 1500, 150, 225000]\n",
      "['Chair_Type_4', 1300, 150, 195000]\n"
     ]
    }
   ],
   "source": [
    "b = []\n",
    "for prod in products_on_sale:\n",
    "    for sale in sale_prices:\n",
    "        for no in quantities:\n",
    "            print([prod,no, sale, sale * no])\n",
    "            b.append([prod,no, sale, sale * no])"
   ]
  },
  {
   "cell_type": "code",
   "execution_count": 37,
   "metadata": {},
   "outputs": [
    {
     "data": {
      "text/html": [
       "<div>\n",
       "<style scoped>\n",
       "    .dataframe tbody tr th:only-of-type {\n",
       "        vertical-align: middle;\n",
       "    }\n",
       "\n",
       "    .dataframe tbody tr th {\n",
       "        vertical-align: top;\n",
       "    }\n",
       "\n",
       "    .dataframe thead th {\n",
       "        text-align: right;\n",
       "    }\n",
       "</style>\n",
       "<table border=\"1\" class=\"dataframe\">\n",
       "  <thead>\n",
       "    <tr style=\"text-align: right;\">\n",
       "      <th></th>\n",
       "      <th>products_on_sale</th>\n",
       "      <th>sale_prices</th>\n",
       "      <th>quantities</th>\n",
       "      <th>revenue</th>\n",
       "    </tr>\n",
       "  </thead>\n",
       "  <tbody>\n",
       "    <tr>\n",
       "      <th>0</th>\n",
       "      <td>Chair_Type_1</td>\n",
       "      <td>1000</td>\n",
       "      <td>100</td>\n",
       "      <td>100000</td>\n",
       "    </tr>\n",
       "    <tr>\n",
       "      <th>1</th>\n",
       "      <td>Chair_Type_1</td>\n",
       "      <td>1500</td>\n",
       "      <td>100</td>\n",
       "      <td>150000</td>\n",
       "    </tr>\n",
       "    <tr>\n",
       "      <th>2</th>\n",
       "      <td>Chair_Type_1</td>\n",
       "      <td>1300</td>\n",
       "      <td>100</td>\n",
       "      <td>130000</td>\n",
       "    </tr>\n",
       "    <tr>\n",
       "      <th>3</th>\n",
       "      <td>Chair_Type_1</td>\n",
       "      <td>1000</td>\n",
       "      <td>120</td>\n",
       "      <td>120000</td>\n",
       "    </tr>\n",
       "    <tr>\n",
       "      <th>4</th>\n",
       "      <td>Chair_Type_1</td>\n",
       "      <td>1500</td>\n",
       "      <td>120</td>\n",
       "      <td>180000</td>\n",
       "    </tr>\n",
       "    <tr>\n",
       "      <th>5</th>\n",
       "      <td>Chair_Type_1</td>\n",
       "      <td>1300</td>\n",
       "      <td>120</td>\n",
       "      <td>156000</td>\n",
       "    </tr>\n",
       "    <tr>\n",
       "      <th>6</th>\n",
       "      <td>Chair_Type_1</td>\n",
       "      <td>1000</td>\n",
       "      <td>135</td>\n",
       "      <td>135000</td>\n",
       "    </tr>\n",
       "    <tr>\n",
       "      <th>7</th>\n",
       "      <td>Chair_Type_1</td>\n",
       "      <td>1500</td>\n",
       "      <td>135</td>\n",
       "      <td>202500</td>\n",
       "    </tr>\n",
       "    <tr>\n",
       "      <th>8</th>\n",
       "      <td>Chair_Type_1</td>\n",
       "      <td>1300</td>\n",
       "      <td>135</td>\n",
       "      <td>175500</td>\n",
       "    </tr>\n",
       "    <tr>\n",
       "      <th>9</th>\n",
       "      <td>Chair_Type_1</td>\n",
       "      <td>1000</td>\n",
       "      <td>150</td>\n",
       "      <td>150000</td>\n",
       "    </tr>\n",
       "    <tr>\n",
       "      <th>10</th>\n",
       "      <td>Chair_Type_1</td>\n",
       "      <td>1500</td>\n",
       "      <td>150</td>\n",
       "      <td>225000</td>\n",
       "    </tr>\n",
       "    <tr>\n",
       "      <th>11</th>\n",
       "      <td>Chair_Type_1</td>\n",
       "      <td>1300</td>\n",
       "      <td>150</td>\n",
       "      <td>195000</td>\n",
       "    </tr>\n",
       "    <tr>\n",
       "      <th>12</th>\n",
       "      <td>Chair_Type_2</td>\n",
       "      <td>1000</td>\n",
       "      <td>100</td>\n",
       "      <td>100000</td>\n",
       "    </tr>\n",
       "    <tr>\n",
       "      <th>13</th>\n",
       "      <td>Chair_Type_2</td>\n",
       "      <td>1500</td>\n",
       "      <td>100</td>\n",
       "      <td>150000</td>\n",
       "    </tr>\n",
       "    <tr>\n",
       "      <th>14</th>\n",
       "      <td>Chair_Type_2</td>\n",
       "      <td>1300</td>\n",
       "      <td>100</td>\n",
       "      <td>130000</td>\n",
       "    </tr>\n",
       "    <tr>\n",
       "      <th>15</th>\n",
       "      <td>Chair_Type_2</td>\n",
       "      <td>1000</td>\n",
       "      <td>120</td>\n",
       "      <td>120000</td>\n",
       "    </tr>\n",
       "    <tr>\n",
       "      <th>16</th>\n",
       "      <td>Chair_Type_2</td>\n",
       "      <td>1500</td>\n",
       "      <td>120</td>\n",
       "      <td>180000</td>\n",
       "    </tr>\n",
       "    <tr>\n",
       "      <th>17</th>\n",
       "      <td>Chair_Type_2</td>\n",
       "      <td>1300</td>\n",
       "      <td>120</td>\n",
       "      <td>156000</td>\n",
       "    </tr>\n",
       "    <tr>\n",
       "      <th>18</th>\n",
       "      <td>Chair_Type_2</td>\n",
       "      <td>1000</td>\n",
       "      <td>135</td>\n",
       "      <td>135000</td>\n",
       "    </tr>\n",
       "    <tr>\n",
       "      <th>19</th>\n",
       "      <td>Chair_Type_2</td>\n",
       "      <td>1500</td>\n",
       "      <td>135</td>\n",
       "      <td>202500</td>\n",
       "    </tr>\n",
       "    <tr>\n",
       "      <th>20</th>\n",
       "      <td>Chair_Type_2</td>\n",
       "      <td>1300</td>\n",
       "      <td>135</td>\n",
       "      <td>175500</td>\n",
       "    </tr>\n",
       "    <tr>\n",
       "      <th>21</th>\n",
       "      <td>Chair_Type_2</td>\n",
       "      <td>1000</td>\n",
       "      <td>150</td>\n",
       "      <td>150000</td>\n",
       "    </tr>\n",
       "    <tr>\n",
       "      <th>22</th>\n",
       "      <td>Chair_Type_2</td>\n",
       "      <td>1500</td>\n",
       "      <td>150</td>\n",
       "      <td>225000</td>\n",
       "    </tr>\n",
       "    <tr>\n",
       "      <th>23</th>\n",
       "      <td>Chair_Type_2</td>\n",
       "      <td>1300</td>\n",
       "      <td>150</td>\n",
       "      <td>195000</td>\n",
       "    </tr>\n",
       "    <tr>\n",
       "      <th>24</th>\n",
       "      <td>Chair_Type_3</td>\n",
       "      <td>1000</td>\n",
       "      <td>100</td>\n",
       "      <td>100000</td>\n",
       "    </tr>\n",
       "    <tr>\n",
       "      <th>25</th>\n",
       "      <td>Chair_Type_3</td>\n",
       "      <td>1500</td>\n",
       "      <td>100</td>\n",
       "      <td>150000</td>\n",
       "    </tr>\n",
       "    <tr>\n",
       "      <th>26</th>\n",
       "      <td>Chair_Type_3</td>\n",
       "      <td>1300</td>\n",
       "      <td>100</td>\n",
       "      <td>130000</td>\n",
       "    </tr>\n",
       "    <tr>\n",
       "      <th>27</th>\n",
       "      <td>Chair_Type_3</td>\n",
       "      <td>1000</td>\n",
       "      <td>120</td>\n",
       "      <td>120000</td>\n",
       "    </tr>\n",
       "    <tr>\n",
       "      <th>28</th>\n",
       "      <td>Chair_Type_3</td>\n",
       "      <td>1500</td>\n",
       "      <td>120</td>\n",
       "      <td>180000</td>\n",
       "    </tr>\n",
       "    <tr>\n",
       "      <th>29</th>\n",
       "      <td>Chair_Type_3</td>\n",
       "      <td>1300</td>\n",
       "      <td>120</td>\n",
       "      <td>156000</td>\n",
       "    </tr>\n",
       "    <tr>\n",
       "      <th>30</th>\n",
       "      <td>Chair_Type_3</td>\n",
       "      <td>1000</td>\n",
       "      <td>135</td>\n",
       "      <td>135000</td>\n",
       "    </tr>\n",
       "    <tr>\n",
       "      <th>31</th>\n",
       "      <td>Chair_Type_3</td>\n",
       "      <td>1500</td>\n",
       "      <td>135</td>\n",
       "      <td>202500</td>\n",
       "    </tr>\n",
       "    <tr>\n",
       "      <th>32</th>\n",
       "      <td>Chair_Type_3</td>\n",
       "      <td>1300</td>\n",
       "      <td>135</td>\n",
       "      <td>175500</td>\n",
       "    </tr>\n",
       "    <tr>\n",
       "      <th>33</th>\n",
       "      <td>Chair_Type_3</td>\n",
       "      <td>1000</td>\n",
       "      <td>150</td>\n",
       "      <td>150000</td>\n",
       "    </tr>\n",
       "    <tr>\n",
       "      <th>34</th>\n",
       "      <td>Chair_Type_3</td>\n",
       "      <td>1500</td>\n",
       "      <td>150</td>\n",
       "      <td>225000</td>\n",
       "    </tr>\n",
       "    <tr>\n",
       "      <th>35</th>\n",
       "      <td>Chair_Type_3</td>\n",
       "      <td>1300</td>\n",
       "      <td>150</td>\n",
       "      <td>195000</td>\n",
       "    </tr>\n",
       "    <tr>\n",
       "      <th>36</th>\n",
       "      <td>Chair_Type_4</td>\n",
       "      <td>1000</td>\n",
       "      <td>100</td>\n",
       "      <td>100000</td>\n",
       "    </tr>\n",
       "    <tr>\n",
       "      <th>37</th>\n",
       "      <td>Chair_Type_4</td>\n",
       "      <td>1500</td>\n",
       "      <td>100</td>\n",
       "      <td>150000</td>\n",
       "    </tr>\n",
       "    <tr>\n",
       "      <th>38</th>\n",
       "      <td>Chair_Type_4</td>\n",
       "      <td>1300</td>\n",
       "      <td>100</td>\n",
       "      <td>130000</td>\n",
       "    </tr>\n",
       "    <tr>\n",
       "      <th>39</th>\n",
       "      <td>Chair_Type_4</td>\n",
       "      <td>1000</td>\n",
       "      <td>120</td>\n",
       "      <td>120000</td>\n",
       "    </tr>\n",
       "    <tr>\n",
       "      <th>40</th>\n",
       "      <td>Chair_Type_4</td>\n",
       "      <td>1500</td>\n",
       "      <td>120</td>\n",
       "      <td>180000</td>\n",
       "    </tr>\n",
       "    <tr>\n",
       "      <th>41</th>\n",
       "      <td>Chair_Type_4</td>\n",
       "      <td>1300</td>\n",
       "      <td>120</td>\n",
       "      <td>156000</td>\n",
       "    </tr>\n",
       "    <tr>\n",
       "      <th>42</th>\n",
       "      <td>Chair_Type_4</td>\n",
       "      <td>1000</td>\n",
       "      <td>135</td>\n",
       "      <td>135000</td>\n",
       "    </tr>\n",
       "    <tr>\n",
       "      <th>43</th>\n",
       "      <td>Chair_Type_4</td>\n",
       "      <td>1500</td>\n",
       "      <td>135</td>\n",
       "      <td>202500</td>\n",
       "    </tr>\n",
       "    <tr>\n",
       "      <th>44</th>\n",
       "      <td>Chair_Type_4</td>\n",
       "      <td>1300</td>\n",
       "      <td>135</td>\n",
       "      <td>175500</td>\n",
       "    </tr>\n",
       "    <tr>\n",
       "      <th>45</th>\n",
       "      <td>Chair_Type_4</td>\n",
       "      <td>1000</td>\n",
       "      <td>150</td>\n",
       "      <td>150000</td>\n",
       "    </tr>\n",
       "    <tr>\n",
       "      <th>46</th>\n",
       "      <td>Chair_Type_4</td>\n",
       "      <td>1500</td>\n",
       "      <td>150</td>\n",
       "      <td>225000</td>\n",
       "    </tr>\n",
       "    <tr>\n",
       "      <th>47</th>\n",
       "      <td>Chair_Type_4</td>\n",
       "      <td>1300</td>\n",
       "      <td>150</td>\n",
       "      <td>195000</td>\n",
       "    </tr>\n",
       "  </tbody>\n",
       "</table>\n",
       "</div>"
      ],
      "text/plain": [
       "   products_on_sale  sale_prices  quantities  revenue\n",
       "0      Chair_Type_1         1000         100   100000\n",
       "1      Chair_Type_1         1500         100   150000\n",
       "2      Chair_Type_1         1300         100   130000\n",
       "3      Chair_Type_1         1000         120   120000\n",
       "4      Chair_Type_1         1500         120   180000\n",
       "5      Chair_Type_1         1300         120   156000\n",
       "6      Chair_Type_1         1000         135   135000\n",
       "7      Chair_Type_1         1500         135   202500\n",
       "8      Chair_Type_1         1300         135   175500\n",
       "9      Chair_Type_1         1000         150   150000\n",
       "10     Chair_Type_1         1500         150   225000\n",
       "11     Chair_Type_1         1300         150   195000\n",
       "12     Chair_Type_2         1000         100   100000\n",
       "13     Chair_Type_2         1500         100   150000\n",
       "14     Chair_Type_2         1300         100   130000\n",
       "15     Chair_Type_2         1000         120   120000\n",
       "16     Chair_Type_2         1500         120   180000\n",
       "17     Chair_Type_2         1300         120   156000\n",
       "18     Chair_Type_2         1000         135   135000\n",
       "19     Chair_Type_2         1500         135   202500\n",
       "20     Chair_Type_2         1300         135   175500\n",
       "21     Chair_Type_2         1000         150   150000\n",
       "22     Chair_Type_2         1500         150   225000\n",
       "23     Chair_Type_2         1300         150   195000\n",
       "24     Chair_Type_3         1000         100   100000\n",
       "25     Chair_Type_3         1500         100   150000\n",
       "26     Chair_Type_3         1300         100   130000\n",
       "27     Chair_Type_3         1000         120   120000\n",
       "28     Chair_Type_3         1500         120   180000\n",
       "29     Chair_Type_3         1300         120   156000\n",
       "30     Chair_Type_3         1000         135   135000\n",
       "31     Chair_Type_3         1500         135   202500\n",
       "32     Chair_Type_3         1300         135   175500\n",
       "33     Chair_Type_3         1000         150   150000\n",
       "34     Chair_Type_3         1500         150   225000\n",
       "35     Chair_Type_3         1300         150   195000\n",
       "36     Chair_Type_4         1000         100   100000\n",
       "37     Chair_Type_4         1500         100   150000\n",
       "38     Chair_Type_4         1300         100   130000\n",
       "39     Chair_Type_4         1000         120   120000\n",
       "40     Chair_Type_4         1500         120   180000\n",
       "41     Chair_Type_4         1300         120   156000\n",
       "42     Chair_Type_4         1000         135   135000\n",
       "43     Chair_Type_4         1500         135   202500\n",
       "44     Chair_Type_4         1300         135   175500\n",
       "45     Chair_Type_4         1000         150   150000\n",
       "46     Chair_Type_4         1500         150   225000\n",
       "47     Chair_Type_4         1300         150   195000"
      ]
     },
     "execution_count": 37,
     "metadata": {},
     "output_type": "execute_result"
    }
   ],
   "source": [
    "df1 = pd.DataFrame(b)\n",
    "df1.columns = ['products_on_sale', 'sale_prices','quantities','revenue']\n",
    "df1"
   ]
  },
  {
   "cell_type": "markdown",
   "metadata": {},
   "source": [
    "## List Comprehensions"
   ]
  },
  {
   "cell_type": "markdown",
   "metadata": {},
   "source": [
    "Execute the code cell below to create the following three lists: **products_on_sale**, **sale_prices**, **quantities**"
   ]
  },
  {
   "cell_type": "code",
   "execution_count": null,
   "metadata": {},
   "outputs": [],
   "source": [
    "products_on_sale = ['Chair_Type_1', 'Chair_Type_2', 'Chair_Type_3', 'Chair_Type_4']\n",
    "sale_prices = [100, 120, 135, 150]\n",
    "quantities = [1000, 1500, 1300]"
   ]
  },
  {
   "cell_type": "markdown",
   "metadata": {},
   "source": [
    "The following code cell will execute a nested loop that will deliver all possible combinations of the elements from the **products_on_sale**, **sale_prices** and **quantities** lists:"
   ]
  },
  {
   "cell_type": "code",
   "execution_count": 38,
   "metadata": {},
   "outputs": [
    {
     "name": "stdout",
     "output_type": "stream",
     "text": [
      "['Chair_Type_1', 100000]\n",
      "['Chair_Type_1', 150000]\n",
      "['Chair_Type_1', 130000]\n",
      "['Chair_Type_1', 120000]\n",
      "['Chair_Type_1', 180000]\n",
      "['Chair_Type_1', 156000]\n",
      "['Chair_Type_1', 135000]\n",
      "['Chair_Type_1', 202500]\n",
      "['Chair_Type_1', 175500]\n",
      "['Chair_Type_1', 150000]\n",
      "['Chair_Type_1', 225000]\n",
      "['Chair_Type_1', 195000]\n",
      "['Chair_Type_2', 100000]\n",
      "['Chair_Type_2', 150000]\n",
      "['Chair_Type_2', 130000]\n",
      "['Chair_Type_2', 120000]\n",
      "['Chair_Type_2', 180000]\n",
      "['Chair_Type_2', 156000]\n",
      "['Chair_Type_2', 135000]\n",
      "['Chair_Type_2', 202500]\n",
      "['Chair_Type_2', 175500]\n",
      "['Chair_Type_2', 150000]\n",
      "['Chair_Type_2', 225000]\n",
      "['Chair_Type_2', 195000]\n",
      "['Chair_Type_3', 100000]\n",
      "['Chair_Type_3', 150000]\n",
      "['Chair_Type_3', 130000]\n",
      "['Chair_Type_3', 120000]\n",
      "['Chair_Type_3', 180000]\n",
      "['Chair_Type_3', 156000]\n",
      "['Chair_Type_3', 135000]\n",
      "['Chair_Type_3', 202500]\n",
      "['Chair_Type_3', 175500]\n",
      "['Chair_Type_3', 150000]\n",
      "['Chair_Type_3', 225000]\n",
      "['Chair_Type_3', 195000]\n",
      "['Chair_Type_4', 100000]\n",
      "['Chair_Type_4', 150000]\n",
      "['Chair_Type_4', 130000]\n",
      "['Chair_Type_4', 120000]\n",
      "['Chair_Type_4', 180000]\n",
      "['Chair_Type_4', 156000]\n",
      "['Chair_Type_4', 135000]\n",
      "['Chair_Type_4', 202500]\n",
      "['Chair_Type_4', 175500]\n",
      "['Chair_Type_4', 150000]\n",
      "['Chair_Type_4', 225000]\n",
      "['Chair_Type_4', 195000]\n"
     ]
    }
   ],
   "source": [
    "for chair_type in products_on_sale:\n",
    "    for price in sale_prices:\n",
    "        for quantity in quantities:\n",
    "            print ([chair_type, price*quantity])"
   ]
  },
  {
   "cell_type": "markdown",
   "metadata": {},
   "source": [
    "Use a list comprehension to obtain the same output. Store it in a variable called **sales_revenue**. <br/>\n",
    "Make sure you refrain from obtaining any inexistent \"None\" values."
   ]
  },
  {
   "cell_type": "code",
   "execution_count": 39,
   "metadata": {},
   "outputs": [],
   "source": [
    "sales_revenue = [[chair_type, price*quantity] for chair_type in products_on_sale for price in sale_prices for quantity in quantities]"
   ]
  },
  {
   "cell_type": "code",
   "execution_count": 40,
   "metadata": {},
   "outputs": [
    {
     "data": {
      "text/plain": [
       "[['Chair_Type_1', 100000],\n",
       " ['Chair_Type_1', 150000],\n",
       " ['Chair_Type_1', 130000],\n",
       " ['Chair_Type_1', 120000],\n",
       " ['Chair_Type_1', 180000],\n",
       " ['Chair_Type_1', 156000],\n",
       " ['Chair_Type_1', 135000],\n",
       " ['Chair_Type_1', 202500],\n",
       " ['Chair_Type_1', 175500],\n",
       " ['Chair_Type_1', 150000],\n",
       " ['Chair_Type_1', 225000],\n",
       " ['Chair_Type_1', 195000],\n",
       " ['Chair_Type_2', 100000],\n",
       " ['Chair_Type_2', 150000],\n",
       " ['Chair_Type_2', 130000],\n",
       " ['Chair_Type_2', 120000],\n",
       " ['Chair_Type_2', 180000],\n",
       " ['Chair_Type_2', 156000],\n",
       " ['Chair_Type_2', 135000],\n",
       " ['Chair_Type_2', 202500],\n",
       " ['Chair_Type_2', 175500],\n",
       " ['Chair_Type_2', 150000],\n",
       " ['Chair_Type_2', 225000],\n",
       " ['Chair_Type_2', 195000],\n",
       " ['Chair_Type_3', 100000],\n",
       " ['Chair_Type_3', 150000],\n",
       " ['Chair_Type_3', 130000],\n",
       " ['Chair_Type_3', 120000],\n",
       " ['Chair_Type_3', 180000],\n",
       " ['Chair_Type_3', 156000],\n",
       " ['Chair_Type_3', 135000],\n",
       " ['Chair_Type_3', 202500],\n",
       " ['Chair_Type_3', 175500],\n",
       " ['Chair_Type_3', 150000],\n",
       " ['Chair_Type_3', 225000],\n",
       " ['Chair_Type_3', 195000],\n",
       " ['Chair_Type_4', 100000],\n",
       " ['Chair_Type_4', 150000],\n",
       " ['Chair_Type_4', 130000],\n",
       " ['Chair_Type_4', 120000],\n",
       " ['Chair_Type_4', 180000],\n",
       " ['Chair_Type_4', 156000],\n",
       " ['Chair_Type_4', 135000],\n",
       " ['Chair_Type_4', 202500],\n",
       " ['Chair_Type_4', 175500],\n",
       " ['Chair_Type_4', 150000],\n",
       " ['Chair_Type_4', 225000],\n",
       " ['Chair_Type_4', 195000]]"
      ]
     },
     "execution_count": 40,
     "metadata": {},
     "output_type": "execute_result"
    }
   ],
   "source": [
    "sales_revenue"
   ]
  },
  {
   "cell_type": "markdown",
   "metadata": {},
   "source": [
    "**List comprehensions with Conditionals**\n",
    "<br> <br> **Conditional on the iterable**"
   ]
  },
  {
   "cell_type": "markdown",
   "metadata": {},
   "source": [
    "Use a list comprehension to return a list with all even numbers between 1 and 10 inclusive, multiplied by 10."
   ]
  },
  {
   "cell_type": "code",
   "execution_count": 42,
   "metadata": {},
   "outputs": [
    {
     "data": {
      "text/plain": [
       "[0, 20, 40, 60, 80, 100]"
      ]
     },
     "execution_count": 42,
     "metadata": {},
     "output_type": "execute_result"
    }
   ],
   "source": [
    "[i * 10 for i in range(11) if i%2 == 0]"
   ]
  },
  {
   "cell_type": "markdown",
   "metadata": {},
   "source": [
    "We consider the previous answer as the Pythonic way to obtain the output because it involved the use of a list comprehension.\n",
    "Can you think of a way to obtain identical output in the \"Non-Pythonic\" way, i.e. by using a double nested loop?"
   ]
  },
  {
   "cell_type": "code",
   "execution_count": 51,
   "metadata": {},
   "outputs": [
    {
     "name": "stdout",
     "output_type": "stream",
     "text": [
      "[0, 20, 40, 60, 80, 100]\n"
     ]
    }
   ],
   "source": [
    "l = []\n",
    "for i in range(11):\n",
    "    if i%2 == 0:\n",
    "        l.append(i * 10)\n",
    "print(l)"
   ]
  },
  {
   "cell_type": "markdown",
   "metadata": {},
   "source": [
    "**Conditional on the output**"
   ]
  },
  {
   "cell_type": "markdown",
   "metadata": {},
   "source": [
    "Return a list that contains the element from range(1, 11) multiplied by 10 if the number is even, and \"None\" if that number is odd."
   ]
  },
  {
   "cell_type": "code",
   "execution_count": 52,
   "metadata": {},
   "outputs": [
    {
     "data": {
      "text/plain": [
       "['None', 20, 'None', 40, 'None', 60, 'None', 80, 'None', 100]"
      ]
     },
     "execution_count": 52,
     "metadata": {},
     "output_type": "execute_result"
    }
   ],
   "source": [
    "[i * 10 if i%2 == 0 else \"None\" for i in range(1,11)]"
   ]
  },
  {
   "cell_type": "markdown",
   "metadata": {},
   "source": [
    "## Anonymous Functions"
   ]
  },
  {
   "cell_type": "markdown",
   "metadata": {},
   "source": [
    "Define a function called **multiply_by_10** that will return a value ten times bigger than the argument."
   ]
  },
  {
   "cell_type": "code",
   "execution_count": null,
   "metadata": {},
   "outputs": [],
   "source": []
  },
  {
   "cell_type": "markdown",
   "metadata": {},
   "source": [
    "Apply **multiply_by_10** to the argument of 5. Clearly, you should obtain 50."
   ]
  },
  {
   "cell_type": "code",
   "execution_count": null,
   "metadata": {},
   "outputs": [],
   "source": []
  },
  {
   "cell_type": "markdown",
   "metadata": {},
   "source": [
    "#### Lambda Functions"
   ]
  },
  {
   "cell_type": "markdown",
   "metadata": {},
   "source": [
    "This time, create **multiply_by_10** as a Lambda funciton. Execute it with an argument of 7."
   ]
  },
  {
   "cell_type": "code",
   "execution_count": null,
   "metadata": {},
   "outputs": [],
   "source": []
  },
  {
   "cell_type": "markdown",
   "metadata": {},
   "source": [
    "Define a Lambda function named **product_xy** that returns the product of two parameters, x and y. Execute it with arguments 4 and 20."
   ]
  },
  {
   "cell_type": "code",
   "execution_count": null,
   "metadata": {},
   "outputs": [],
   "source": []
  },
  {
   "cell_type": "markdown",
   "metadata": {},
   "source": [
    "Create a Lambda function that returns the output of the following mathematical expression. Execute it with an argument of 13."
   ]
  },
  {
   "cell_type": "code",
   "execution_count": null,
   "metadata": {},
   "outputs": [],
   "source": []
  }
 ],
 "metadata": {
  "kernelspec": {
   "display_name": "Python 3",
   "language": "python",
   "name": "python3"
  },
  "language_info": {
   "codemirror_mode": {
    "name": "ipython",
    "version": 3
   },
   "file_extension": ".py",
   "mimetype": "text/x-python",
   "name": "python",
   "nbconvert_exporter": "python",
   "pygments_lexer": "ipython3",
   "version": "3.8.3"
  }
 },
 "nbformat": 4,
 "nbformat_minor": 2
}
